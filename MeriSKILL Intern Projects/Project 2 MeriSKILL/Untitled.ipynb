{
 "cells": [
  {
   "cell_type": "code",
   "execution_count": 6,
   "id": "f77bd854",
   "metadata": {},
   "outputs": [
    {
     "name": "stdout",
     "output_type": "stream",
     "text": [
      "welcome <class 'str'>\n"
     ]
    }
   ],
   "source": [
    "wel = 'welcome'\n",
    "print(well,type(wel))"
   ]
  },
  {
   "cell_type": "code",
   "execution_count": 5,
   "id": "79f4247e",
   "metadata": {},
   "outputs": [
    {
     "name": "stdout",
     "output_type": "stream",
     "text": [
      "HI everybody:\n"
     ]
    }
   ],
   "source": [
    "string_one = \"HI\"\n",
    "string_two = \"everybody\"\n",
    "print(string_one,string_two+':')"
   ]
  },
  {
   "cell_type": "code",
   "execution_count": 4,
   "id": "d9abe61d",
   "metadata": {},
   "outputs": [
    {
     "name": "stdout",
     "output_type": "stream",
     "text": [
      "30\n",
      "<class 'int'>\n"
     ]
    }
   ],
   "source": [
    "my_int = 30\n",
    "print(my_int)\n",
    "print(type(my_int))"
   ]
  },
  {
   "cell_type": "code",
   "execution_count": 7,
   "id": "448a1e87",
   "metadata": {},
   "outputs": [
    {
     "name": "stdout",
     "output_type": "stream",
     "text": [
      "10.5\n"
     ]
    }
   ],
   "source": [
    "my_float = 10.5\n",
    "print(my_float)"
   ]
  },
  {
   "cell_type": "code",
   "execution_count": 8,
   "id": "f9453b52",
   "metadata": {},
   "outputs": [
    {
     "name": "stdout",
     "output_type": "stream",
     "text": [
      "9.5 + 5.0 = 14.5\n"
     ]
    }
   ],
   "source": [
    "a,b=9.5,5.0\n",
    "c= a+b\n",
    "print(f\"{a} + {b} = {c}\")"
   ]
  },
  {
   "cell_type": "code",
   "execution_count": 9,
   "id": "cf04a978",
   "metadata": {},
   "outputs": [
    {
     "name": "stdout",
     "output_type": "stream",
     "text": [
      "14\n"
     ]
    }
   ],
   "source": [
    "a,b=9.5,5.0\n",
    "c= a+b\n",
    "print(int(c))"
   ]
  },
  {
   "cell_type": "code",
   "execution_count": 10,
   "id": "bf1adb7e",
   "metadata": {},
   "outputs": [
    {
     "name": "stdout",
     "output_type": "stream",
     "text": [
      "98 60\n"
     ]
    }
   ],
   "source": [
    "x,y = 98,60\n",
    "print(x,y)"
   ]
  },
  {
   "cell_type": "code",
   "execution_count": 14,
   "id": "4abd742f",
   "metadata": {},
   "outputs": [
    {
     "name": "stdout",
     "output_type": "stream",
     "text": [
      "10 2599204383312\n",
      "20 2599204383632\n",
      "30 2599204383952\n"
     ]
    }
   ],
   "source": [
    "why =10\n",
    "print(why,id(why))\n",
    "why =20\n",
    "print(why,id(why))\n",
    "why =30\n",
    "print(why,id(why))"
   ]
  },
  {
   "cell_type": "code",
   "execution_count": 3,
   "id": "a8087199",
   "metadata": {},
   "outputs": [
    {
     "name": "stdout",
     "output_type": "stream",
     "text": [
      "2.5\n",
      "8\n"
     ]
    }
   ],
   "source": [
    "# a.2\n",
    "x,y,z,g = 1,2,3,4\n",
    "print(x+y*z/g)\n",
    "print(y**z)"
   ]
  },
  {
   "cell_type": "code",
   "execution_count": 26,
   "id": "1c0cd27b",
   "metadata": {},
   "outputs": [
    {
     "name": "stdout",
     "output_type": "stream",
     "text": [
      "Python is a 1000 times fun language\n",
      " \n"
     ]
    }
   ],
   "source": [
    "# 3\n",
    "str_a,str_b,str_c,num= \"Python\", \"is a\",\"times fun language\", 1000\n",
    "str_ab = str_a + \" \" + str_b + \" \"  + str(num) + \" \" + str_c\n",
    "print(str_ab)"
   ]
  },
  {
   "cell_type": "code",
   "execution_count": 30,
   "id": "1622a876",
   "metadata": {},
   "outputs": [
    {
     "name": "stdout",
     "output_type": "stream",
     "text": [
      "P y t h o n i s   a 1 0 0 0 t i m e s   f u n   l a n g u a g e\n"
     ]
    }
   ],
   "source": [
    "# # 3\n",
    "# str_a,str_b,str_c,num= \"Python\", \"is a\",\"times fun language\", 1000\n",
    "# str_ab = \"\".join(str_a+str_b+str(num)+str_c)\n",
    "# print(str_ab)"
   ]
  },
  {
   "cell_type": "code",
   "execution_count": 19,
   "id": "996abc9a",
   "metadata": {},
   "outputs": [
    {
     "name": "stdout",
     "output_type": "stream",
     "text": [
      "5\n",
      "3.0 6.0\n",
      "25.0\n",
      "25.0\n"
     ]
    }
   ],
   "source": [
    "# 4\n",
    "import math as m\n",
    "num_1,num_2,num_3,num_4 = -5,3.2,5.7,625\n",
    "print(abs(num_1))\n",
    "print(round(num_2,0),round(num_3,0))\n",
    "print(num_4**(1/2))\n",
    "print(m.sqrt(num_4))"
   ]
  },
  {
   "cell_type": "code",
   "execution_count": 22,
   "id": "8bbc04a8",
   "metadata": {},
   "outputs": [
    {
     "name": "stdout",
     "output_type": "stream",
     "text": [
      "5 * 6 = 30\n"
     ]
    }
   ],
   "source": [
    "# 5\n",
    "a,b = 5,6\n",
    "c=a*b\n",
    "print(a,\"*\",b,'=',c)"
   ]
  }
 ],
 "metadata": {
  "kernelspec": {
   "display_name": "Python 3 (ipykernel)",
   "language": "python",
   "name": "python3"
  },
  "language_info": {
   "codemirror_mode": {
    "name": "ipython",
    "version": 3
   },
   "file_extension": ".py",
   "mimetype": "text/x-python",
   "name": "python",
   "nbconvert_exporter": "python",
   "pygments_lexer": "ipython3",
   "version": "3.9.7"
  }
 },
 "nbformat": 4,
 "nbformat_minor": 5
}
